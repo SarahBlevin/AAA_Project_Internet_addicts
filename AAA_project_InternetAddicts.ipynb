{
  "nbformat": 4,
  "nbformat_minor": 0,
  "metadata": {
    "colab": {
      "provenance": [],
      "authorship_tag": "ABX9TyMsqGS/5ZPQqRgr6Zb/Y8ck",
      "include_colab_link": true
    },
    "kernelspec": {
      "name": "python3",
      "display_name": "Python 3"
    },
    "language_info": {
      "name": "python"
    }
  },
  "cells": [
    {
      "cell_type": "markdown",
      "metadata": {
        "id": "view-in-github",
        "colab_type": "text"
      },
      "source": [
        "<a href=\"https://colab.research.google.com/github/SarahBlevin/AAA_Project_Internet_addicts/blob/main/AAA_project_InternetAddicts.ipynb\" target=\"_parent\"><img src=\"https://colab.research.google.com/assets/colab-badge.svg\" alt=\"Open In Colab\"/></a>"
      ]
    },
    {
      "cell_type": "markdown",
      "source": [],
      "metadata": {
        "id": "bLsr0y_u7nx1"
      }
    },
    {
      "cell_type": "markdown",
      "source": [
        "# AAA - project InternetAddicts"
      ],
      "metadata": {
        "id": "4Pbdt_MS7qBt"
      }
    },
    {
      "cell_type": "code",
      "source": [],
      "metadata": {
        "id": "0bDTN4V67wOk"
      },
      "execution_count": null,
      "outputs": []
    }
  ]
}